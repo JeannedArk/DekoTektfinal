{
 "cells": [
  {
   "cell_type": "code",
   "execution_count": 29,
   "id": "bcddbc3c",
   "metadata": {},
   "outputs": [],
   "source": [
    "def anagram_difference(w1, w2):\n",
    "    from collections import Counter\n",
    "    x =Counter(w1)\n",
    "    z =Counter(w2)\n",
    "    output={}\n",
    "    for k,v in x.items():\n",
    "        if k in z.keys() and v==z[k]:\n",
    "            output[k]=v\n",
    "        elif k in z.keys() and v<z[k]:\n",
    "            output[k]=v\n",
    "        elif k in z.keys() and v>z[k]:\n",
    "            output[k]=z[k]\n",
    "    p =sum(output.values())\n",
    "    return len(w1)+len(w2) - p*2"
   ]
  },
  {
   "cell_type": "code",
   "execution_count": 5,
   "id": "2e11bbb8",
   "metadata": {},
   "outputs": [
    {
     "data": {
      "text/plain": [
       "16"
      ]
     },
     "execution_count": 5,
     "metadata": {},
     "output_type": "execute_result"
    }
   ],
   "source": [
    "w1 = 'eeyykaafkswog'\n",
    "w2 = 'esdpvjzeylwbztgdv'\n",
    "x=[i for i in w1 if i in w2]\n",
    "len(w1)+len(w2) - len(x)*2"
   ]
  },
  {
   "cell_type": "code",
   "execution_count": 12,
   "id": "5ad68074",
   "metadata": {},
   "outputs": [
    {
     "name": "stdout",
     "output_type": "stream",
     "text": [
      "13\n",
      "17\n",
      "['e', 'e', 'y', 'y', 's', 'w', 'g']\n",
      "7\n"
     ]
    }
   ],
   "source": [
    "print(len(w1))\n",
    "print(len(w2))\n",
    "print(x)\n",
    "print(len(x))"
   ]
  },
  {
   "cell_type": "code",
   "execution_count": 28,
   "id": "262b49f9",
   "metadata": {},
   "outputs": [
    {
     "data": {
      "text/plain": [
       "18"
      ]
     },
     "execution_count": 28,
     "metadata": {},
     "output_type": "execute_result"
    }
   ],
   "source": [
    "from collections import Counter\n",
    "x =Counter(w1)\n",
    "z =Counter(w2)\n",
    "output={}\n",
    "for k,v in x.items():\n",
    "    if k in z.keys() and v==z[k]:\n",
    "        output[k]=v\n",
    "    elif k in z.keys() and v<z[k]:\n",
    "        output[k]=v\n",
    "    elif k in z.keys() and v>z[k]:\n",
    "        output[k]=z[k]\n",
    "p =sum(output.values())\n",
    "len(w1)+len(w2) - p*2"
   ]
  },
  {
   "cell_type": "code",
   "execution_count": 36,
   "id": "4b0443e2",
   "metadata": {},
   "outputs": [
    {
     "data": {
      "text/plain": [
       "Counter({'e': 2,\n",
       "         's': 1,\n",
       "         'd': 2,\n",
       "         'p': 1,\n",
       "         'v': 2,\n",
       "         'j': 1,\n",
       "         'z': 2,\n",
       "         'y': 1,\n",
       "         'l': 1,\n",
       "         'w': 1,\n",
       "         'b': 1,\n",
       "         't': 1,\n",
       "         'g': 1})"
      ]
     },
     "execution_count": 36,
     "metadata": {},
     "output_type": "execute_result"
    }
   ],
   "source": [
    "z =Counter(w2)\n",
    "z"
   ]
  },
  {
   "cell_type": "code",
   "execution_count": 24,
   "id": "065ecdc9",
   "metadata": {},
   "outputs": [],
   "source": [
    "output={}\n",
    "for k,v in x.items():\n",
    "    if k in z.keys() and v==z[k]:\n",
    "        output[k]=v\n",
    "    elif k in z.keys() and v<z[k]:\n",
    "        output[k]=v\n",
    "    elif k in z.keys() and v>z[k]:\n",
    "        output[k]=z[k]\n",
    "p =sum(output.values())\n",
    "len(w1)+len(w2) - p*2"
   ]
  },
  {
   "cell_type": "code",
   "execution_count": 26,
   "id": "40baedbf",
   "metadata": {},
   "outputs": [
    {
     "data": {
      "text/plain": [
       "6"
      ]
     },
     "execution_count": 26,
     "metadata": {},
     "output_type": "execute_result"
    }
   ],
   "source": [
    "p =sum(output.values())"
   ]
  },
  {
   "cell_type": "code",
   "execution_count": 27,
   "id": "6cd62d4b",
   "metadata": {},
   "outputs": [
    {
     "data": {
      "text/plain": [
       "18"
      ]
     },
     "execution_count": 27,
     "metadata": {},
     "output_type": "execute_result"
    }
   ],
   "source": [
    "len(w1)+len(w2) - p*2"
   ]
  },
  {
   "cell_type": "code",
   "execution_count": 35,
   "id": "c0e45ff9",
   "metadata": {},
   "outputs": [
    {
     "data": {
      "text/plain": [
       "Counter({'e': -6,\n",
       "         's': -3,\n",
       "         'd': 2,\n",
       "         'p': 1,\n",
       "         'v': 2,\n",
       "         'j': 1,\n",
       "         'z': 2,\n",
       "         'y': -7,\n",
       "         'l': 1,\n",
       "         'w': -3,\n",
       "         'b': 1,\n",
       "         't': 1,\n",
       "         'g': -3,\n",
       "         'k': -8,\n",
       "         'a': -8,\n",
       "         'f': -4,\n",
       "         'o': -4})"
      ]
     },
     "execution_count": 35,
     "metadata": {},
     "output_type": "execute_result"
    }
   ],
   "source": [
    "z.subtract(x)\n",
    "z"
   ]
  },
  {
   "cell_type": "code",
   "execution_count": 42,
   "id": "4ba41cc6",
   "metadata": {},
   "outputs": [
    {
     "data": {
      "text/plain": [
       "24"
      ]
     },
     "execution_count": 42,
     "metadata": {},
     "output_type": "execute_result"
    }
   ],
   "source": [
    "(z | x).total()"
   ]
  },
  {
   "cell_type": "code",
   "execution_count": 47,
   "id": "615407cf",
   "metadata": {
    "scrolled": true
   },
   "outputs": [
    {
     "data": {
      "text/plain": [
       "Counter({'e': 2,\n",
       "         'y': 2,\n",
       "         'k': 2,\n",
       "         'a': 2,\n",
       "         'f': 1,\n",
       "         's': 1,\n",
       "         'w': 1,\n",
       "         'o': 1,\n",
       "         'g': 1,\n",
       "         'd': 2,\n",
       "         'p': 1,\n",
       "         'v': 2,\n",
       "         'j': 1,\n",
       "         'z': 2,\n",
       "         'l': 1,\n",
       "         'b': 1,\n",
       "         't': 1})"
      ]
     },
     "execution_count": 47,
     "metadata": {},
     "output_type": "execute_result"
    }
   ],
   "source": [
    "zz = [1,2]\n",
    "pp = [9,8, 8]\n",
    "x | z"
   ]
  },
  {
   "cell_type": "code",
   "execution_count": 57,
   "id": "835727c4",
   "metadata": {},
   "outputs": [],
   "source": [
    "def anagrams(word, words):\n",
    "    from collections import Counter\n",
    "    z = Counter(word)\n",
    "    output =[]\n",
    "    output1 =[]\n",
    "    for i in words:\n",
    "        output.append(Counter(i))\n",
    "        if Counter(i)==z:        \n",
    "            output1.append(i)\n",
    "    return output1"
   ]
  },
  {
   "cell_type": "code",
   "execution_count": 55,
   "id": "18ee4b67",
   "metadata": {},
   "outputs": [
    {
     "data": {
      "text/plain": [
       "['aabb', 'bbaa']"
      ]
     },
     "execution_count": 55,
     "metadata": {},
     "output_type": "execute_result"
    }
   ],
   "source": [
    "word = 'abba'\n",
    "words = ['aabb', 'abcd', 'bbaa', 'dada']\n",
    "from collections import Counter\n",
    "z = Counter(word)\n",
    "output =[]\n",
    "output1 =[]\n",
    "for i in words:\n",
    "    output.append(Counter(i))\n",
    "    if Counter(i)==z:        \n",
    "        output1.append(i)\n",
    "output1"
   ]
  },
  {
   "cell_type": "code",
   "execution_count": null,
   "id": "6039a0ed",
   "metadata": {},
   "outputs": [],
   "source": [
    "def smallest(n):\n",
    "    print(n)\n",
    "    n = str(n)\n",
    "    counter = 0  \n",
    "    n1 = [str(i) for i in n]\n",
    "    x = sorted(n1)[counter]\n",
    "    z = n.index(x) \n",
    "    n1.pop(z)\n",
    "    n1.insert(0,str(x))\n",
    "    output = \"\".join(n1)\n",
    "    while int(output)==int(n):\n",
    "        n1= []\n",
    "        counter += 1\n",
    "        x = sorted(n)[counter] \n",
    "        n1 = [str(i) for i in n]\n",
    "        z = n.index(x)\n",
    "        n1.pop(z)    \n",
    "        n1.insert(counter,str(x))\n",
    "        output = \"\".join(n1)\n",
    "    if z==1:\n",
    "        return [int(output),counter,z]\n",
    "    else:\n",
    "        return [int(output),z,counter]"
   ]
  },
  {
   "cell_type": "code",
   "execution_count": null,
   "id": "337edccf",
   "metadata": {},
   "outputs": [],
   "source": []
  },
  {
   "cell_type": "code",
   "execution_count": null,
   "id": "ecd55089",
   "metadata": {},
   "outputs": [],
   "source": []
  },
  {
   "cell_type": "code",
   "execution_count": null,
   "id": "09e33d42",
   "metadata": {},
   "outputs": [],
   "source": []
  },
  {
   "cell_type": "code",
   "execution_count": null,
   "id": "ee69c4da",
   "metadata": {},
   "outputs": [],
   "source": []
  },
  {
   "cell_type": "code",
   "execution_count": null,
   "id": "6ef936a2",
   "metadata": {},
   "outputs": [],
   "source": []
  },
  {
   "cell_type": "code",
   "execution_count": null,
   "id": "963493b4",
   "metadata": {},
   "outputs": [],
   "source": []
  },
  {
   "cell_type": "code",
   "execution_count": null,
   "id": "48795301",
   "metadata": {},
   "outputs": [],
   "source": []
  },
  {
   "cell_type": "code",
   "execution_count": null,
   "id": "0f96a753",
   "metadata": {},
   "outputs": [],
   "source": []
  }
 ],
 "metadata": {
  "kernelspec": {
   "display_name": "Python 3 (ipykernel)",
   "language": "python",
   "name": "python3"
  },
  "language_info": {
   "codemirror_mode": {
    "name": "ipython",
    "version": 3
   },
   "file_extension": ".py",
   "mimetype": "text/x-python",
   "name": "python",
   "nbconvert_exporter": "python",
   "pygments_lexer": "ipython3",
   "version": "3.10.1"
  }
 },
 "nbformat": 4,
 "nbformat_minor": 5
}
