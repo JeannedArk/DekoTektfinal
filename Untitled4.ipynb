{
 "cells": [
  {
   "cell_type": "code",
   "execution_count": 9,
   "id": "deec1540",
   "metadata": {},
   "outputs": [
    {
     "ename": "SyntaxError",
     "evalue": "invalid syntax (Temp/ipykernel_7544/2062184800.py, line 2)",
     "output_type": "error",
     "traceback": [
      "\u001b[1;36m  File \u001b[1;32m\"C:\\Users\\ahmad\\AppData\\Local\\Temp/ipykernel_7544/2062184800.py\"\u001b[1;36m, line \u001b[1;32m2\u001b[0m\n\u001b[1;33m    return max[sum([arr[j] for j in range(i[0],i[-1]+1)]) for i in ranges]\u001b[0m\n\u001b[1;37m                                                          ^\u001b[0m\n\u001b[1;31mSyntaxError\u001b[0m\u001b[1;31m:\u001b[0m invalid syntax\n"
     ]
    }
   ],
   "source": [
    "def max_sum(arr,ranges):    \n",
    "    return max[sum([arr[j] for j in range(i[0],i[-1]+1)]) for i in ranges]     "
   ]
  },
  {
   "cell_type": "code",
   "execution_count": 3,
   "id": "cbf5f276",
   "metadata": {},
   "outputs": [
    {
     "data": {
      "text/plain": [
       "[5, 1, 6]"
      ]
     },
     "execution_count": 3,
     "metadata": {},
     "output_type": "execute_result"
    }
   ],
   "source": [
    "arr = [1,-2,3,4,-5,-4,3,2,1]\n",
    "ranges = [[1,3],[0,4],[6,8]]\n",
    "x = []\n",
    "for i in ranges:\n",
    "    x.append(sum([arr[j] for j in range(i[0],i[-1]+1)]))\n",
    "return min(x)"
   ]
  },
  {
   "cell_type": "code",
   "execution_count": 7,
   "id": "168899d9",
   "metadata": {},
   "outputs": [
    {
     "name": "stdout",
     "output_type": "stream",
     "text": [
      "[5, 1, 6]\n"
     ]
    },
    {
     "data": {
      "text/plain": [
       "1"
      ]
     },
     "execution_count": 7,
     "metadata": {},
     "output_type": "execute_result"
    }
   ],
   "source": [
    "max_sum([1,-2,3,4,-5,-4,3,2,1], [[1,3],[0,4],[6,8]])"
   ]
  },
  {
   "cell_type": "code",
   "execution_count": null,
   "id": "df938534",
   "metadata": {},
   "outputs": [],
   "source": [
    "def max_sum(a, ranges):    \n",
    "    x = []    \n",
    "    for i in ranges:\n",
    "        x.append(sum([a[j] for j in range(i[0],i[-1]+1)]))   \n",
    "    return max(x)"
   ]
  },
  {
   "cell_type": "code",
   "execution_count": null,
   "id": "3efbcb14",
   "metadata": {},
   "outputs": [],
   "source": []
  },
  {
   "cell_type": "code",
   "execution_count": null,
   "id": "6234623c",
   "metadata": {},
   "outputs": [],
   "source": []
  }
 ],
 "metadata": {
  "kernelspec": {
   "display_name": "Python 3 (ipykernel)",
   "language": "python",
   "name": "python3"
  },
  "language_info": {
   "codemirror_mode": {
    "name": "ipython",
    "version": 3
   },
   "file_extension": ".py",
   "mimetype": "text/x-python",
   "name": "python",
   "nbconvert_exporter": "python",
   "pygments_lexer": "ipython3",
   "version": "3.10.1"
  }
 },
 "nbformat": 4,
 "nbformat_minor": 5
}
