{
 "cells": [
  {
   "cell_type": "code",
   "execution_count": 8,
   "id": "7c8bcc80",
   "metadata": {},
   "outputs": [],
   "source": [
    "def nb_dig(n, d):\n",
    "    return len([i**2 for i in range(n+1) if str(d) in str(i**2)])"
   ]
  },
  {
   "cell_type": "code",
   "execution_count": 16,
   "id": "9f718f29",
   "metadata": {},
   "outputs": [
    {
     "data": {
      "text/plain": [
       "11"
      ]
     },
     "execution_count": 16,
     "metadata": {},
     "output_type": "execute_result"
    }
   ],
   "source": [
    "n = 25 \n",
    "d =  2\n",
    "\"\".join([str(i**2) for i in range(n+1) if str(d) in str(i**2)]).count(\"1\")"
   ]
  },
  {
   "cell_type": "code",
   "execution_count": 17,
   "id": "a0dae5e9",
   "metadata": {},
   "outputs": [],
   "source": [
    "def generate_shape(n):\n",
    "    output = \"\"\n",
    "    for i in range(n):\n",
    "        output+=\"+\"*n+\"\\n\"\n",
    "    return output[:-2]"
   ]
  },
  {
   "cell_type": "code",
   "execution_count": 25,
   "id": "d04daf8a",
   "metadata": {},
   "outputs": [
    {
     "data": {
      "text/plain": [
       "'+++\\n+++\\n+++'"
      ]
     },
     "execution_count": 25,
     "metadata": {},
     "output_type": "execute_result"
    }
   ],
   "source": [
    "n = 3\n",
    "output = \"\"\n",
    "for i in range(n):\n",
    "    output+=\"+\"*n+\"\\n\"\n",
    "output[:-1]"
   ]
  },
  {
   "cell_type": "code",
   "execution_count": null,
   "id": "fd3f9a06",
   "metadata": {},
   "outputs": [],
   "source": []
  }
 ],
 "metadata": {
  "kernelspec": {
   "display_name": "Python 3 (ipykernel)",
   "language": "python",
   "name": "python3"
  },
  "language_info": {
   "codemirror_mode": {
    "name": "ipython",
    "version": 3
   },
   "file_extension": ".py",
   "mimetype": "text/x-python",
   "name": "python",
   "nbconvert_exporter": "python",
   "pygments_lexer": "ipython3",
   "version": "3.10.1"
  }
 },
 "nbformat": 4,
 "nbformat_minor": 5
}
