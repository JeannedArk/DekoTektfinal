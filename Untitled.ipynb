{
 "cells": [
  {
   "cell_type": "code",
   "execution_count": 15,
   "id": "deb32c75",
   "metadata": {},
   "outputs": [
    {
     "data": {
      "text/plain": [
       "'camel Casing World'"
      ]
     },
     "execution_count": 15,
     "metadata": {},
     "output_type": "execute_result"
    }
   ],
   "source": [
    "s = \"camelCasingWorld\"\n",
    "s1 = [i for i in s]\n",
    "s2 =s1.copy()\n",
    "output = []\n",
    "count = 0\n",
    "for index,i in enumerate(s1):\n",
    "    if i.isupper():        \n",
    "        s2.insert(index+count,\" \")\n",
    "        count+=1        \n",
    "\"\".join(s2)"
   ]
  },
  {
   "cell_type": "code",
   "execution_count": 13,
   "id": "cd48fa33",
   "metadata": {},
   "outputs": [
    {
     "data": {
      "text/plain": [
       "['c',\n",
       " 'a',\n",
       " 'm',\n",
       " 'e',\n",
       " 'l',\n",
       " 'C',\n",
       " 'a',\n",
       " 's',\n",
       " 'i',\n",
       " 'n',\n",
       " 'g',\n",
       " 'W',\n",
       " 'o',\n",
       " 'r',\n",
       " 'l',\n",
       " 'd']"
      ]
     },
     "execution_count": 13,
     "metadata": {},
     "output_type": "execute_result"
    }
   ],
   "source": [
    "s1"
   ]
  }
 ],
 "metadata": {
  "kernelspec": {
   "display_name": "Python 3 (ipykernel)",
   "language": "python",
   "name": "python3"
  },
  "language_info": {
   "codemirror_mode": {
    "name": "ipython",
    "version": 3
   },
   "file_extension": ".py",
   "mimetype": "text/x-python",
   "name": "python",
   "nbconvert_exporter": "python",
   "pygments_lexer": "ipython3",
   "version": "3.10.1"
  }
 },
 "nbformat": 4,
 "nbformat_minor": 5
}
