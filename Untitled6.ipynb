{
 "cells": [
  {
   "cell_type": "code",
   "execution_count": 1,
   "id": "f7519b79",
   "metadata": {},
   "outputs": [],
   "source": [
    "words = ['mouse', 'house', 'hose', 'host']"
   ]
  },
  {
   "cell_type": "code",
   "execution_count": null,
   "id": "460d1e84",
   "metadata": {},
   "outputs": [],
   "source": [
    "from collections import Counter\n",
    "x = []\n",
    "for i in words:\n",
    "    x.app\n",
    "    \n",
    "    "
   ]
  },
  {
   "cell_type": "code",
   "execution_count": null,
   "id": "2615d446",
   "metadata": {},
   "outputs": [],
   "source": [
    "def anagram_difference(words):\n",
    "    words = list(words)\n",
    "    from collections import Counter\n",
    "    if len(words)<=2:\n",
    "        if not word[0] and not word[1]:\n",
    "            return 0\n",
    "        if words[0] and not words[1]:\n",
    "            return len(words[0])\n",
    "        elif words[1] and not words[0]:\n",
    "            return len(word[1])\n",
    "        else:\n",
    "            return 0\n",
    "    elif len(words)>=2 and words[0] and words[1]:\n",
    "        x = []\n",
    "        for i in words:\n",
    "            x.append(Counter(i))\n",
    "        common =2*sum((x[0]&x[1]).values())\n",
    "        return sum([len(i) for i in words])-common"
   ]
  },
  {
   "cell_type": "code",
   "execution_count": null,
   "id": "795d5a16",
   "metadata": {},
   "outputs": [],
   "source": []
  },
  {
   "cell_type": "code",
   "execution_count": null,
   "id": "5957a329",
   "metadata": {},
   "outputs": [],
   "source": []
  },
  {
   "cell_type": "code",
   "execution_count": null,
   "id": "f7c071dd",
   "metadata": {},
   "outputs": [],
   "source": []
  }
 ],
 "metadata": {
  "kernelspec": {
   "display_name": "Python 3 (ipykernel)",
   "language": "python",
   "name": "python3"
  },
  "language_info": {
   "codemirror_mode": {
    "name": "ipython",
    "version": 3
   },
   "file_extension": ".py",
   "mimetype": "text/x-python",
   "name": "python",
   "nbconvert_exporter": "python",
   "pygments_lexer": "ipython3",
   "version": "3.10.1"
  }
 },
 "nbformat": 4,
 "nbformat_minor": 5
}
