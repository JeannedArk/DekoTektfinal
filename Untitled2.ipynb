{
 "cells": [
  {
   "cell_type": "code",
   "execution_count": 70,
   "id": "dc6e67dd",
   "metadata": {},
   "outputs": [
    {
     "name": "stdout",
     "output_type": "stream",
     "text": [
      "18786302809 6 0\n"
     ]
    }
   ],
   "source": [
    "n = \"187863002809\"\n",
    "# find the min number and its index\n",
    "counter = 0\n",
    "x = sorted(n)[counter]  \n",
    "z = n.index(x)\n",
    "# make a list from the string, pop the smallest number and put it back at 0 index\n",
    "n1 = [str(i) for i in n]\n",
    "n1.pop(z)\n",
    "n1.insert(0,str(x))\n",
    "output = \"\".join(n1)\n",
    "while int(output)==int(n):\n",
    "    n1= []\n",
    "    counter += 1\n",
    "    x = sorted(n)[counter]  \n",
    "    print(x)\n",
    "    n1 = [str(i) for i in n]\n",
    "    print(n1)\n",
    "    z = n.index(x)\n",
    "    n1.pop(z)    \n",
    "    n1.insert(0,str(x))\n",
    "    output = \"\".join(n1)\n",
    "if z==1:\n",
    "    print(int(output),counter,z)\n",
    "else:\n",
    "    print(int(output),z,counter)"
   ]
  },
  {
   "cell_type": "code",
   "execution_count": 65,
   "id": "61e543dc",
   "metadata": {},
   "outputs": [],
   "source": [
    "def smallest(n): \n",
    "    n = str(n)\n",
    "    counter = 0  \n",
    "    n1 = [str(i) for i in n]\n",
    "    x = sorted(n1)[counter]\n",
    "    z = n.index(x) \n",
    "    n1.pop(z)\n",
    "    n1.insert(0,str(x))\n",
    "    output = \"\".join(n1)\n",
    "    while int(output)==int(n):\n",
    "        n1= []\n",
    "        counter += 1\n",
    "        x = sorted(n)[counter] \n",
    "        n1 = [str(i) for i in n]\n",
    "        z = n.index(x)\n",
    "        n1.pop(z)    \n",
    "        n1.insert(counter,str(x))\n",
    "        output = \"\".join(n1)\n",
    "    if z==1:\n",
    "        return [int(output),counter,z]\n",
    "    else:\n",
    "        return [int(output),z,counter]"
   ]
  },
  {
   "cell_type": "code",
   "execution_count": 67,
   "id": "6c90c773",
   "metadata": {},
   "outputs": [
    {
     "data": {
      "text/plain": [
       "[126235, 2, 0]"
      ]
     },
     "execution_count": 67,
     "metadata": {},
     "output_type": "execute_result"
    }
   ],
   "source": [
    "smallest(261235)"
   ]
  },
  {
   "cell_type": "code",
   "execution_count": 144,
   "id": "10050605",
   "metadata": {},
   "outputs": [],
   "source": [
    "def increment_string(strng):\n",
    "    if not strng[-1].isdigit():\n",
    "        return strng + \"1\"\n",
    "    else:\n",
    "        counter=\"0\"\n",
    "        n = []        \n",
    "        for i in strng[::-1]: \n",
    "            if i.isdigit():\n",
    "                n.append(i)\n",
    "            else:\n",
    "                break \n",
    "        n = n[::-1]\n",
    "        print(n)\n",
    "        z =len(strng)-len(n)\n",
    "        s = strng[:z]\n",
    "        x = str(int(\"\".join(n))+1)\n",
    "        if len(n)!= len(x):\n",
    "            x = counter*(len(n)-len(x))+x        \n",
    "        return s + x    "
   ]
  },
  {
   "cell_type": "code",
   "execution_count": 113,
   "id": "35a049df",
   "metadata": {},
   "outputs": [],
   "source": [
    "strng = \"foobar001\" \n",
    "if not strng[-1].isdigit():\n",
    "    output= strng + \"1\"\n",
    "else:\n",
    "    counter=\"0\"\n",
    "    n = [i for i in strng if i.isdigit()]\n",
    "    s = [i for i in strng if not i.isdigit()]\n",
    "    x = str(int(\"\".join(n))+1)\n",
    "    if len(n)!= len(x):\n",
    "        x = counter*(len(n)-len(x))+x\n",
    "    output = \"\".join(s) + x"
   ]
  },
  {
   "cell_type": "code",
   "execution_count": 114,
   "id": "3bf76f50",
   "metadata": {},
   "outputs": [
    {
     "data": {
      "text/plain": [
       "'foobar002'"
      ]
     },
     "execution_count": 114,
     "metadata": {},
     "output_type": "execute_result"
    }
   ],
   "source": [
    "output"
   ]
  },
  {
   "cell_type": "code",
   "execution_count": 145,
   "id": "6d86d7dd",
   "metadata": {},
   "outputs": [
    {
     "name": "stdout",
     "output_type": "stream",
     "text": [
      "['8', '2', '4', '5', '4', '2', '2', '0', '7', '6', '0', '3', '5', '6', '9']\n"
     ]
    },
    {
     "data": {
      "text/plain": [
       "\"j0CG72Cv'yK%0h5125728zHG824542207603570\""
      ]
     },
     "execution_count": 145,
     "metadata": {},
     "output_type": "execute_result"
    }
   ],
   "source": [
    "increment_string(\"j0CG72Cv'yK%0h5125728zHG824542207603569\")"
   ]
  },
  {
   "cell_type": "code",
   "execution_count": null,
   "id": "f7bf246c",
   "metadata": {},
   "outputs": [],
   "source": [
    "\"j0CG72Cv'yK%0h5125728zHG824542207603570\""
   ]
  },
  {
   "cell_type": "code",
   "execution_count": null,
   "id": "0c69b611",
   "metadata": {},
   "outputs": [],
   "source": [
    "\"j0CG72Cv'yK%0h5125728zHG824542207603570\""
   ]
  },
  {
   "cell_type": "code",
   "execution_count": 141,
   "id": "ddc7e6c3",
   "metadata": {},
   "outputs": [
    {
     "ename": "TypeError",
     "evalue": "unsupported operand type(s) for -: 'str' and 'str'",
     "output_type": "error",
     "traceback": [
      "\u001b[1;31m---------------------------------------------------------------------------\u001b[0m",
      "\u001b[1;31mTypeError\u001b[0m                                 Traceback (most recent call last)",
      "\u001b[1;32m~\\AppData\\Local\\Temp/ipykernel_17484/1711414788.py\u001b[0m in \u001b[0;36m<module>\u001b[1;34m\u001b[0m\n\u001b[0;32m      1\u001b[0m \u001b[0mi\u001b[0m \u001b[1;33m=\u001b[0m\u001b[1;34m'foobar002'\u001b[0m\u001b[1;33m\u001b[0m\u001b[1;33m\u001b[0m\u001b[0m\n\u001b[0;32m      2\u001b[0m \u001b[0mz\u001b[0m \u001b[1;33m=\u001b[0m \u001b[1;34m\"002\"\u001b[0m\u001b[1;33m\u001b[0m\u001b[1;33m\u001b[0m\u001b[0m\n\u001b[1;32m----> 3\u001b[1;33m \u001b[0mx\u001b[0m \u001b[1;33m=\u001b[0m \u001b[0mi\u001b[0m \u001b[1;33m-\u001b[0m \u001b[0mz\u001b[0m\u001b[1;33m\u001b[0m\u001b[1;33m\u001b[0m\u001b[0m\n\u001b[0m",
      "\u001b[1;31mTypeError\u001b[0m: unsupported operand type(s) for -: 'str' and 'str'"
     ]
    }
   ],
   "source": [
    "i ='foobar002'\n",
    "z = \"002\"\n",
    "x = i - z"
   ]
  }
 ],
 "metadata": {
  "kernelspec": {
   "display_name": "Python 3 (ipykernel)",
   "language": "python",
   "name": "python3"
  },
  "language_info": {
   "codemirror_mode": {
    "name": "ipython",
    "version": 3
   },
   "file_extension": ".py",
   "mimetype": "text/x-python",
   "name": "python",
   "nbconvert_exporter": "python",
   "pygments_lexer": "ipython3",
   "version": "3.10.1"
  }
 },
 "nbformat": 4,
 "nbformat_minor": 5
}
